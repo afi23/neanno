{
 "cells": [
  {
   "cell_type": "code",
   "execution_count": 21,
   "metadata": {},
   "outputs": [],
   "source": [
    "import re\n",
    "\n",
    "TERM_TYPE_TINY_TO_LONG_MAPPING = {\n",
    "    \"SK\": \"standalone_keyterm\",\n",
    "    \"PK\": \"parented_keyterm\",\n",
    "    \"SN\": \"standalone_named_entity\",\n",
    "}\n",
    "\n",
    "def remove_all_annotations_from_text(annotated_text):\n",
    "    new_text = re.sub(\n",
    "        r\"\\((.*?)\\|(((PK|SN) .+?)|(SK))\\)\",\n",
    "        lambda match: match.group(1),\n",
    "        annotated_text,\n",
    "        flags=re.DOTALL,\n",
    "    )\n",
    "    return new_textextract_annotations_as_list(u'This (is|PK are) (a|SK) (test|SUBJECT).')\n",
    "\n",
    "def extract_annotations_as_list(\n",
    "    annotated_text, term_types_to_extract=None, entity_names_to_extract=None\n",
    "):\n",
    "\n",
    "    \"\"\" Returns all annotations from an annotated text as a list of dictionaries.\n",
    "    \n",
    "        - Valid types to extract: 'standalone_keyterm', 'parented_keyterm', 'named_entity'.        \n",
    "        - If types_to_extract and/or entity_names_to_extract are None, all types/entities are extracted.\n",
    "        - The returned position ranges ignore other annotations, ie. as if the other annotations did not exist.\n",
    "        - Beware that the returned positions are meant to be used as ranges. annotated_text[5:14] might return\n",
    "          the desired result while annotated_text[14] may encounter an index out of range exception.\n",
    "    \"\"\"\n",
    "\n",
    "    # ensure that types_to_extract has valid entries\n",
    "    if term_types_to_extract:\n",
    "        for type_to_extract in term_types_to_extract:\n",
    "            if type_to_extract not in [\n",
    "                \"standalone_keyterm\",\n",
    "                \"parented_keyterm\",\n",
    "                \"standalone_named_entity\",\n",
    "            ]:\n",
    "                raise ValueError(\n",
    "                    \"At least one entry in param 'types_to_extract' is invalid. Ensure that only valid types are used.\"\n",
    "                )\n",
    "\n",
    "    result = []\n",
    "    parenthesis_level = 0\n",
    "    buffer = ''\n",
    "    for index, char in enumerate(annotated_text):\n",
    "        if char == '(': parenthesis_level += 1\n",
    "        if parenthesis_level > 0:\n",
    "            buffer += char\n",
    "        if char == ')':\n",
    "            if parenthesis_level == 1:\n",
    "                result.appe\n",
    "                print(buffer)\n",
    "                buffer = ''\n",
    "            parenthesis_level -= 1    \n",
    "    \n",
    "    return result"
   ]
  },
  {
   "cell_type": "code",
   "execution_count": 22,
   "metadata": {
    "scrolled": true
   },
   "outputs": [
    {
     "name": "stdout",
     "output_type": "stream",
     "text": [
      "(is|PK are)\n",
      "(a|SK)\n",
      "(test|SUBJECT)\n"
     ]
    },
    {
     "data": {
      "text/plain": [
       "[]"
      ]
     },
     "execution_count": 22,
     "metadata": {},
     "output_type": "execute_result"
    }
   ],
   "source": [
    "extract_annotations_as_list(u'This (is|PK are) (a|SK) (test|SUBJECT).')"
   ]
  },
  {
   "cell_type": "code",
   "execution_count": 8,
   "metadata": {},
   "outputs": [],
   "source": [
    "import re\n",
    "\n",
    "TERM_TYPE_TINY_TO_LONG_MAPPING = {\n",
    "    \"SK\": \"standalone_keyterm\",\n",
    "    \"PK\": \"parented_keyterm\",\n",
    "    \"SN\": \"standalone_named_entity\",\n",
    "}\n",
    "\n",
    "def remove_all_annotations_from_text(annotated_text):\n",
    "    new_text = re.sub(\n",
    "        r\"\\((.*?)\\|(((PK|SN) .+?)|(SK))\\)\",\n",
    "        lambda match: match.group(1),\n",
    "        annotated_text,\n",
    "        flags=re.DOTALL,\n",
    "    )\n",
    "    return new_textextract_annotations_as_list(u'This (is|PK are) (a|SK) (test|SUBJECT).')\n",
    "\n",
    "def extract_annotations_as_list(\n",
    "    annotated_text, term_types_to_extract=None, entity_names_to_extract=None\n",
    "):\n",
    "\n",
    "    \"\"\" Returns all annotations from an annotated text as a list of dictionaries.\n",
    "    \n",
    "        - Valid types to extract: 'standalone_keyterm', 'parented_keyterm', 'named_entity'.        \n",
    "        - If types_to_extract and/or entity_names_to_extract are None, all types/entities are extracted.\n",
    "        - The returned position ranges ignore other annotations, ie. as if the other annotations did not exist.\n",
    "        - Beware that the returned positions are meant to be used as ranges. annotated_text[5:14] might return\n",
    "          the desired result while annotated_text[14] may encounter an index out of range exception.\n",
    "    \"\"\"\n",
    "\n",
    "    # ensure that types_to_extract has valid entries\n",
    "    if term_types_to_extract:\n",
    "        for type_to_extract in term_types_to_extract:\n",
    "            if type_to_extract not in [\n",
    "                \"standalone_keyterm\",\n",
    "                \"parented_keyterm\",\n",
    "                \"standalone_named_entity\",\n",
    "            ]:\n",
    "                raise ValueError(\n",
    "                    \"At least one entry in param 'types_to_extract' is invalid. Ensure that only valid types are used.\"\n",
    "                )\n",
    "\n",
    "    result = []\n",
    "    for match in re.finditer(\n",
    "        r\"\\((?P<term>[^()]+?)\\|(?P<term_type_tiny>(SK|PK|SN))( (?P<postfix>[^()]+?))?\\)\",\n",
    "        annotated_text,\n",
    "        flags=re.DOTALL,\n",
    "    ):\n",
    "        # compute full result\n",
    "        term = match.group(\"term\")\n",
    "        term_type_long = TERM_TYPE_TINY_TO_LONG_MAPPING.get(\n",
    "            match.group(\"term_type_tiny\")\n",
    "        )\n",
    "        postfix = match.group(\"postfix\")\n",
    "        start_position = len(\n",
    "            remove_all_annotations_from_text(annotated_text[: match.start()])\n",
    "        )\n",
    "        end_position = start_position + len(\n",
    "            remove_all_annotations_from_text(\n",
    "                annotated_text[match.start() : match.end()]\n",
    "            )\n",
    "        )\n",
    "        dict_to_add = {\n",
    "            \"term\": term,\n",
    "            \"start\": start_position,\n",
    "            \"end\": end_position,\n",
    "            \"term_type_long\": term_type_long,\n",
    "        }\n",
    "        if term_type_long == \"parented_keyterm\":\n",
    "            dict_to_add[\"parent_terms\"] = postfix\n",
    "        if term_type_long == \"standalone_named_entity\":\n",
    "            dict_to_add[\"entity_name\"] = postfix\n",
    "        result.append(dict_to_add)\n",
    "        # apply filters if needed\n",
    "        if term_types_to_extract:\n",
    "            result = [\n",
    "                item\n",
    "                for item in result\n",
    "                if item[\"term_type_long\"] in term_types_to_extract\n",
    "            ]\n",
    "        if entity_names_to_extract:\n",
    "            result = [\n",
    "                item\n",
    "                for item in result\n",
    "                if item[\"term_type_long\"] != \"standalone_named_entity\"\n",
    "                or (\n",
    "                    item[\"term_type_long\"] == \"standalone_named_entity\"\n",
    "                    and \"entity_name\" in item\n",
    "                    and item[\"entity_name\"] in entity_names_to_extract\n",
    "                )\n",
    "            ]\n",
    "    return result"
   ]
  },
  {
   "cell_type": "code",
   "execution_count": 9,
   "metadata": {
    "scrolled": true
   },
   "outputs": [
    {
     "data": {
      "text/plain": [
       "[{'term': 'is',\n",
       "  'start': 5,\n",
       "  'end': 7,\n",
       "  'term_type_long': 'parented_keyterm',\n",
       "  'parent_terms': 'are'},\n",
       " {'term': 'a', 'start': 8, 'end': 9, 'term_type_long': 'standalone_keyterm'}]"
      ]
     },
     "execution_count": 9,
     "metadata": {},
     "output_type": "execute_result"
    }
   ],
   "source": [
    "extract_annotations_as_list(u'This (is|PK are) (a|SK) (test|SUBJECT).')"
   ]
  }
 ],
 "metadata": {
  "kernelspec": {
   "display_name": "Python 3",
   "language": "python",
   "name": "python3"
  },
  "language_info": {
   "codemirror_mode": {
    "name": "ipython",
    "version": 3
   },
   "file_extension": ".py",
   "mimetype": "text/x-python",
   "name": "python",
   "nbconvert_exporter": "python",
   "pygments_lexer": "ipython3",
   "version": "3.7.1"
  }
 },
 "nbformat": 4,
 "nbformat_minor": 2
}
